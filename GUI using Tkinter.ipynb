{
 "cells": [
  {
   "cell_type": "markdown",
   "metadata": {},
   "source": [
    "# Create GUI using Tkinter"
   ]
  },
  {
   "cell_type": "code",
   "execution_count": 43,
   "metadata": {},
   "outputs": [],
   "source": [
    "import pickle\n",
    "from sklearn.feature_extraction.text import TfidfVectorizer\n",
    "\n",
    "# Import/load the model from disk\n",
    "filename = 'finalized_model.sav'\n",
    "loaded_model = pickle.load(open(filename, 'rb'))\n",
    "\n",
    "# Import/Load Tfidf Vectorizer from disk\n",
    "filename = 'tfidfvectorizer.pickle'\n",
    "vectorizer = pickle.load(open(filename,'rb'))"
   ]
  },
  {
   "cell_type": "code",
   "execution_count": 42,
   "metadata": {},
   "outputs": [],
   "source": [
    "from tkinter import *\n",
    "import tkinter as tk\n",
    "\n",
    "root = Tk()\n",
    "\n",
    "# Displays the result\n",
    "def printValue():\n",
    "    X_predict=np.array([e1.get()])\n",
    "    X_predict=vectorizer.transform(X_predict)\n",
    "    y_pred=loaded_model.predict(X_predict)[0]\n",
    "    res=''\n",
    "    if y_pred==0:\n",
    "        res='Weak'\n",
    "    else:\n",
    "        res='Strong'\n",
    "    \n",
    "    Label(window, text=res,font=('Ariel',10,'bold')).place(x=88, y=125)\n",
    "\n",
    "# Add the functionality to move the window \n",
    "def move_window(event):\n",
    "    root.geometry('+{0}+{1}'.format(event.x_root, event.y_root))\n",
    "\n",
    "root.overrideredirect(True) # turns off title bar, geometry\n",
    "root.geometry('220x180+200+200') # set new geometry\n",
    "\n",
    "# Make a frame for the title bar and add title to it\n",
    "title_bar = Frame(root, bg='#eeeeee', bd=0,relief='groove')\n",
    "Label(title_bar,text='             Gimme text here!',font=('Ariel',10,'bold')).place(x=0,y=0)\n",
    "\n",
    "# Put a close button on the title bar\n",
    "close_button = Button(title_bar, text='X', bd=0,relief = 'groove',command=root.destroy)\n",
    "\n",
    "# a canvas for the main area of the window\n",
    "window = Canvas(root, bg='#eeeeee')\n",
    "\n",
    "# Put everything on canvas window\n",
    "label = Label(window, text = 'Enter your text here!',padx=3,pady=3,borderwidth=10,font=('Ariel',12)).place(x=11,y=10)\n",
    "e1 = Entry(window,\n",
    "           width=18,\n",
    "           font=10)\n",
    "e1.place(x=25,y=50)\n",
    "# e1.focus_set()\n",
    "\n",
    "\n",
    "Button(window,\n",
    "       text=\"Cancel\",\n",
    "       padx=5,\n",
    "       activeforeground='black',\n",
    "       bd=2,\n",
    "       font=3,\n",
    "       relief='groove',\n",
    "       command=root.destroy,highlightthickness=1,highlightcolor='#000fff000').place(x=25,y=85)\n",
    "Button(window,\n",
    "       text=\"OK\",\n",
    "       padx=15,\n",
    "       font=3,\n",
    "       relief='groove',\n",
    "       command=printValue).place(x=120,y=85)\n",
    "\n",
    "# pack the widgets\n",
    "title_bar.pack(expand=1, fill=X)\n",
    "close_button.pack(side=RIGHT)\n",
    "window.pack(expand=1, fill=BOTH)\n",
    "\n",
    "# bind title bar motion to the move window function\n",
    "title_bar.bind('<B1-Motion>', move_window)\n",
    "\n",
    "root.mainloop() # create infinite loop"
   ]
  }
 ],
 "metadata": {
  "kernelspec": {
   "display_name": "Python 3",
   "language": "python",
   "name": "python3"
  },
  "language_info": {
   "codemirror_mode": {
    "name": "ipython",
    "version": 3
   },
   "file_extension": ".py",
   "mimetype": "text/x-python",
   "name": "python",
   "nbconvert_exporter": "python",
   "pygments_lexer": "ipython3",
   "version": "3.8.5"
  }
 },
 "nbformat": 4,
 "nbformat_minor": 4
}
